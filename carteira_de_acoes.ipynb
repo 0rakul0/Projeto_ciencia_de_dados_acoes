{
 "cells": [
  {
   "cell_type": "markdown",
   "source": [
    "Criar dataframe da carteira de ações\n",
    "\n",
    "sites de referencias"
   ],
   "metadata": {
    "collapsed": false,
    "pycharm": {
     "name": "#%% md\n"
    }
   }
  },
  {
   "cell_type": "code",
   "execution_count": 12,
   "outputs": [],
   "source": [
    "import pandas as pd\n",
    "import os"
   ],
   "metadata": {
    "collapsed": false,
    "pycharm": {
     "name": "#%%\n"
    }
   }
  },
  {
   "cell_type": "code",
   "execution_count": 13,
   "metadata": {
    "collapsed": true,
    "pycharm": {
     "name": "#%%\n"
    }
   },
   "outputs": [],
   "source": [
    "empresas_ibvespa = [\"ABEV3\", \"AZUL4\", \"BTOW3\", \"B3SA3\", \"BBSE3\", \"BRML3\", \"BBDC4\", \"BRAP4\", \"BBAS3\", \"BRKM5\", \"BRFS3\", \"BPAC11\", \"CRFB3\", \"CCRO3\", \"CMIG4\", \"HGTX3\", \"CIEL3\", \"COGN3\", \"CPLE6\", \"CSAN3\", \"CPFE3\", \"CVCB3\", \"CYRE3\", \"ECOR3\", \"ELET6\", \"EMBR3\", \"ENBR3\", \"ENGI11\", \"ENEV3\", \"EGIE3\", \"EQTL3\", \"EZTC3\", \"FLRY3\", \"GGBR4\", \"GOAU4\", \"GOLL4\", \"NTCO3\", \"HAPV3\", \"HYPE3\", \"IGTA3\", \"GNDI3\", \"ITSA4\", \"ITUB4\", \"JBSS3\", \"JHSF3\", \"KLBN11\", \"RENT3\", \"LCAM3\", \"LAME4\", \"LREN3\", \"MGLU3\", \"MRFG3\", \"BEEF3\", \"MRVE3\", \"MULT3\", \"PCAR3\", \"PETR4\", \"BRDT3\", \"PRIO3\", \"QUAL3\", \"RADL3\", \"RAIL3\", \"SBSP3\", \"SANB11\", \"CSNA3\", \"SULA11\", \"SUZB3\", \"TAEE11\", \"VIVT3\", \"TIMS3\", \"TOTS3\", \"UGPA3\", \"USIM5\", \"VALE3\", \"VVAR3\", \"WEGE3\", \"YDUQ3\"]"
   ]
  },
  {
   "cell_type": "code",
   "execution_count": 14,
   "outputs": [],
   "source": [
    "empresas_fundos = [\"TSLA34\",\"BBAS3\",\"MXRF11\",\"XPLG11\",\"BCFF11\", \"SNF11\", \"ITUB4\", \"PETR4\"]"
   ],
   "metadata": {
    "collapsed": false,
    "pycharm": {
     "name": "#%%\n"
    }
   }
  },
  {
   "cell_type": "code",
   "execution_count": 15,
   "outputs": [],
   "source": [
    "# referencia\n",
    "# fundamentos = {\n",
    "#     \"PETR4\":balanco_dre_petr4,\n",
    "#     \"BBAS3\":balanco_dre_bbas3\n",
    "# }"
   ],
   "metadata": {
    "collapsed": false,
    "pycharm": {
     "name": "#%%\n"
    }
   }
  },
  {
   "cell_type": "code",
   "execution_count": 22,
   "outputs": [
    {
     "name": "stdout",
     "output_type": "stream",
     "text": [
      "ABEV3\n",
      "ASAI3\n",
      "AZUL4\n",
      "B3SA3\n",
      "BBAS3\n",
      "BBDC3\n",
      "BBDC4\n",
      "BBSE3\n",
      "BEEF3\n",
      "BPAC11\n",
      "BRAP4\n",
      "BRDT3\n",
      "BRFS3\n",
      "BRKM5\n",
      "BRML3\n",
      "BTOW3\n",
      "CCRO3\n",
      "CIEL3\n",
      "CMIG4\n",
      "COGN3\n",
      "CPFE3\n",
      "CPLE6\n",
      "CRFB3\n",
      "CSAN3\n",
      "CSNA3\n",
      "CVCB3\n",
      "CYRE3\n",
      "ECOR3\n",
      "EGIE3\n",
      "ELET3\n",
      "ELET6\n",
      "EMBR3\n",
      "ENBR3\n",
      "ENEV3\n",
      "ENGI11\n",
      "EQTL3\n",
      "EZTC3\n",
      "FLRY3\n",
      "GGBR4\n",
      "GNDI3\n",
      "GOAU4\n",
      "GOLL4\n",
      "HAPV3\n",
      "HGTX3\n",
      "HYPE3\n",
      "IGTA3\n",
      "ITSA4\n",
      "ITUB4\n",
      "JBSS3\n",
      "JHSF3\n",
      "KLBN11\n",
      "LAME4\n",
      "LCAM3\n",
      "LREN3\n",
      "MGLU3\n",
      "MRFG3\n",
      "MRVE3\n",
      "MULT3\n",
      "NTCO3\n",
      "PCAR3\n",
      "PETR3\n",
      "PETR4\n",
      "PRIO3\n",
      "QUAL3\n",
      "RADL3\n",
      "RAIL3\n",
      "RENT3\n",
      "SANB11\n",
      "SBSP3\n",
      "SULA11\n",
      "SUZB3\n",
      "TAEE11\n",
      "TIMS3\n",
      "TOTS3\n",
      "UGPA3\n",
      "USIM5\n",
      "VALE3\n",
      "VIVT3\n",
      "VVAR3\n",
      "WEGE3\n",
      "YDUQ3\n"
     ]
    }
   ],
   "source": [
    "# puxando referencia\n",
    "fundamentos = {}\n",
    "arquivos = os.listdir(\"./data/balancos/\")\n",
    "for indice in arquivos:\n",
    "    nome = indice[-9:-4]\n",
    "    if '11' in nome:\n",
    "        nome = indice[-10:-4]\n",
    "    print(nome)"
   ],
   "metadata": {
    "collapsed": false,
    "pycharm": {
     "name": "#%%\n"
    }
   }
  }
 ],
 "metadata": {
  "kernelspec": {
   "display_name": "Python 3",
   "language": "python",
   "name": "python3"
  },
  "language_info": {
   "codemirror_mode": {
    "name": "ipython",
    "version": 2
   },
   "file_extension": ".py",
   "mimetype": "text/x-python",
   "name": "python",
   "nbconvert_exporter": "python",
   "pygments_lexer": "ipython2",
   "version": "2.7.6"
  }
 },
 "nbformat": 4,
 "nbformat_minor": 0
}